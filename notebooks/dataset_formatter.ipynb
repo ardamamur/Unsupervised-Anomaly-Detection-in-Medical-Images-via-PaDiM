{
 "cells": [
  {
   "cell_type": "code",
   "execution_count": 33,
   "metadata": {},
   "outputs": [],
   "source": [
    "import os\n",
    "import pandas as pd\n",
    "import numpy as np\n",
    "# display all the columns and rows in pandas\n",
    "pd.set_option('display.max_columns', None)"
   ]
  },
  {
   "cell_type": "code",
   "execution_count": 23,
   "metadata": {},
   "outputs": [],
   "source": [
    "split_dir = '/home/mamur/TUM/MLMI/data/splits'\n",
    "data_dir = \"/home/mamur/TUM/MLMI/data/\""
   ]
  },
  {
   "cell_type": "code",
   "execution_count": 3,
   "metadata": {},
   "outputs": [],
   "source": [
    "# list the files in splits directory\n",
    "files = os.listdir(split_dir)"
   ]
  },
  {
   "cell_type": "code",
   "execution_count": 4,
   "metadata": {},
   "outputs": [],
   "source": [
    "pathologies = []\n",
    "non_pathologies = ['normal_val', 'normal_test', 'normal_train', 'normal_test_ann', 'ixi_normal_train', '_ann', '_neg']\n",
    "for file in files:\n",
    "    # if file does not contain any of the non_pathologies as substring\n",
    "    if not any([non_pathology in file for non_pathology in non_pathologies]):\n",
    "        pathology = file.split('.')[0]\n",
    "        pathologies.append(pathology)"
   ]
  },
  {
   "cell_type": "code",
   "execution_count": 5,
   "metadata": {},
   "outputs": [
    {
     "data": {
      "text/plain": [
       "['posttreatment',\n",
       " 'lesions',\n",
       " 'mass_all',\n",
       " 'intraventricular',\n",
       " 'encephalomalacia',\n",
       " 'absent_septum',\n",
       " 'mass',\n",
       " 'edema',\n",
       " 'other',\n",
       " 'artefacts',\n",
       " 'craniatomy',\n",
       " 'wml',\n",
       " 'ea_mass',\n",
       " 'dural',\n",
       " 'resection',\n",
       " 'enlarged_ventricles',\n",
       " 'sinus',\n",
       " 'local']"
      ]
     },
     "execution_count": 5,
     "metadata": {},
     "output_type": "execute_result"
    }
   ],
   "source": [
    "pathologies"
   ]
  },
  {
   "cell_type": "code",
   "execution_count": 6,
   "metadata": {},
   "outputs": [],
   "source": [
    "# check if there are any duplicates in splits files\n",
    "train_csv_ixi = os.path.join(split_dir, 'ixi_normal_train.csv')\n",
    "train_csv_fastMRI = os.path.join(split_dir, 'normal_train.csv')\n",
    "val_csv = os.path.join(split_dir, 'normal_val.csv')\n",
    "test_csv_fastMRI = os.path.join(split_dir, 'normal_test.csv')\n",
    "test_gt_csv_fastMRI = os.path.join(split_dir, 'normal_test_ann.csv')\n",
    "\n",
    "# Load csv files\n",
    "train_files_ixi = pd.read_csv(train_csv_ixi)['filename'].tolist()\n",
    "train_files_fastMRI = pd.read_csv(train_csv_fastMRI)['filename'].tolist()\n",
    "val_files = pd.read_csv(val_csv)['filename'].tolist()\n",
    "test_files_fastMRI = pd.read_csv(test_csv_fastMRI)['filename'].tolist()\n",
    "test_gt_files_fastMRI = pd.read_csv(test_gt_csv_fastMRI)['filename'].tolist()"
   ]
  },
  {
   "cell_type": "code",
   "execution_count": 7,
   "metadata": {},
   "outputs": [],
   "source": [
    "# intersection between train_csv_ixi and train_csv_fastMRI\n",
    "duplicated_files = set(train_files_ixi).intersection(set(train_files_fastMRI))"
   ]
  },
  {
   "cell_type": "code",
   "execution_count": 8,
   "metadata": {},
   "outputs": [
    {
     "name": "stdout",
     "output_type": "stream",
     "text": [
      "All duplicated files are also in train_csv_fastMRI\n",
      "130\n"
     ]
    }
   ],
   "source": [
    "# check if all duplicated files are also in train_csv_fastMRI if true, then we can remove them from train_csv_ixi\n",
    "if all([duplicated_file in train_files_fastMRI for duplicated_file in duplicated_files]):\n",
    "    print('All duplicated files are also in train_csv_fastMRI')\n",
    "    # remove duplicated files from train_csv_ixi\n",
    "    print(len(duplicated_files))\n",
    "\n",
    "else:\n",
    "    print('Not all duplicated files are also in train_csv_fastMRI')\n",
    "    # remove duplicated files from train_csv_ixi\n",
    "    # print length of duplicated files\n",
    "    print(len(duplicated_files))\n",
    "\n",
    "train_files_ixi = [train_file for train_file in train_files_ixi if train_file not in duplicated_files]"
   ]
  },
  {
   "cell_type": "code",
   "execution_count": 9,
   "metadata": {},
   "outputs": [
    {
     "name": "stdout",
     "output_type": "stream",
     "text": [
      "check duplicates again after removing them from train_csv_ixi\n"
     ]
    },
    {
     "data": {
      "text/plain": [
       "0"
      ]
     },
     "execution_count": 9,
     "metadata": {},
     "output_type": "execute_result"
    }
   ],
   "source": [
    "print(\"check duplicates again after removing them from train_csv_ixi\")\n",
    "len(set(train_files_ixi).intersection(set(train_files_fastMRI)))"
   ]
  },
  {
   "cell_type": "code",
   "execution_count": 10,
   "metadata": {},
   "outputs": [],
   "source": [
    "training_samples = train_files_ixi + train_files_fastMRI\n",
    "val_samples = val_files\n",
    "test_samples = test_files_fastMRI\n",
    "test_samples_gt = test_gt_files_fastMRI"
   ]
  },
  {
   "cell_type": "code",
   "execution_count": 11,
   "metadata": {},
   "outputs": [
    {
     "name": "stdout",
     "output_type": "stream",
     "text": [
      "training samples:  711\n",
      "validation samples:  15\n",
      "test samples:  30\n",
      "test samples gt:  30\n"
     ]
    }
   ],
   "source": [
    "# print the lenght of each set\n",
    "print('training samples: ', len(training_samples))\n",
    "print('validation samples: ', len(val_samples))\n",
    "print('test samples: ', len(test_samples))\n",
    "print('test samples gt: ', len(test_samples_gt))\n"
   ]
  },
  {
   "cell_type": "code",
   "execution_count": 12,
   "metadata": {},
   "outputs": [],
   "source": [
    "# create a df from training_samples val_samples and test_samples and for each sample add split value and for test samples also add gt image\n",
    "train_df = pd.DataFrame(training_samples, columns=['image'])\n",
    "train_df['split'] = 'train'\n",
    "train_df['gt_positive'] = 'None'\n",
    "train_df['gt_negative'] = 'None'\n",
    "train_df['pathology'] = 'None'\n",
    "\n",
    "val_df = pd.DataFrame(val_samples, columns=['image'])\n",
    "val_df['split'] = 'val'\n",
    "val_df['gt_positive'] = 'None'\n",
    "val_df['gt_negative'] = 'None'\n",
    "val_df['pathology'] = 'None'\n",
    "\n",
    "test_df = pd.DataFrame(test_samples, columns=['image'])\n",
    "test_df['split'] = 'test'\n",
    "test_df['gt_positive'] = 'None'\n",
    "test_df['gt_negative'] = 'None'\n",
    "test_df['pathology'] = 'None'\n",
    "test_df['gt_image'] = test_samples_gt\n",
    "# concat all dfs\n",
    "df = pd.concat([train_df, val_df, test_df], ignore_index=True)"
   ]
  },
  {
   "cell_type": "code",
   "execution_count": 13,
   "metadata": {},
   "outputs": [],
   "source": [
    "df = df[[\"image\", \"split\", \"pathology\", \"gt_image\", \"gt_positive\", \"gt_negative\"]]"
   ]
  },
  {
   "cell_type": "code",
   "execution_count": 14,
   "metadata": {},
   "outputs": [],
   "source": [
    "df.to_excel('dataset.xlsx', index=False)"
   ]
  },
  {
   "cell_type": "code",
   "execution_count": 29,
   "metadata": {},
   "outputs": [],
   "source": [
    "def create_pathology_df(pathologies, split_dir):\n",
    "    # List to hold all the rows before creating a DataFrame\n",
    "    all_rows = []\n",
    "\n",
    "    for pathology in pathologies:\n",
    "        normal_file = pathology + '.csv'\n",
    "        neg_file = pathology + '_neg.csv'\n",
    "        ann_file = pathology + '_ann.csv'\n",
    "\n",
    "        # Load csv files\n",
    "        normal_files = pd.read_csv(os.path.join(split_dir, normal_file))['filename'].tolist()\n",
    "        neg_files = pd.read_csv(os.path.join(split_dir, neg_file))['filename'].tolist()\n",
    "        ann_files = pd.read_csv(os.path.join(split_dir, ann_file))['filename'].tolist() if ann_file != \"local_ann.csv\" else []\n",
    "\n",
    "        # Create dictionaries for faster lookup\n",
    "        neg_files_dict = {format_basename(file): file for file in neg_files}\n",
    "        ann_files_dict = {format_basename(file): file for file in ann_files} if ann_files else {}\n",
    "\n",
    "        # Create a row for each csv files contents\n",
    "        for normal_file_path in normal_files:\n",
    "            formatted_basename = format_basename(normal_file_path)\n",
    "            # Find corresponding negative and annotation files, if they exist\n",
    "            full_mask_file_path = normal_file_path.split('.png')[0] + '_brain_map_full.png'\n",
    "            # check if full_mask_file_path exists\n",
    "            if os.path.exists(data_dir + full_mask_file_path.split(\"./data/\")[-1]):\n",
    "                gt_image = full_mask_file_path\n",
    "            else:\n",
    "                gt_image = 'None'\n",
    "            neg_file_path = neg_files_dict.get(formatted_basename, 'None')\n",
    "            ann_file_path = ann_files_dict.get(formatted_basename, 'None')\n",
    "\n",
    "            # Append the new row to the list\n",
    "            all_rows.append({'image': normal_file_path, \"gt_image\":gt_image, 'gt_positive': ann_file_path,\n",
    "                             'gt_negative': neg_file_path, 'pathology': pathology})\n",
    "\n",
    "    # Convert the list of dictionaries to a DataFrame\n",
    "    return pd.DataFrame(all_rows, columns=['image', \"pathology\", \"gt_image\", 'gt_positive', 'gt_negative'])\n",
    "\n",
    "def format_basename(file_path):\n",
    "    \"\"\"Format the basename of the file according to the specified format.\"\"\"\n",
    "    temp = os.path.basename(file_path).split(\"_\")\n",
    "    return \"_\".join(part.split(\".\")[0] for part in temp[:5])"
   ]
  },
  {
   "cell_type": "code",
   "execution_count": 30,
   "metadata": {},
   "outputs": [],
   "source": [
    "pathology_df = create_pathology_df(pathologies, split_dir=split_dir)"
   ]
  },
  {
   "cell_type": "code",
   "execution_count": 34,
   "metadata": {},
   "outputs": [],
   "source": [
    "def divide_dataset_into_splits(df, seed=None):\n",
    "    \"\"\"\n",
    "    Randomly divide the dataset into three equal splits: train, test, and val.\n",
    "\n",
    "    :param df: The DataFrame to split.\n",
    "    :param seed: Optional; a seed for the random number generator for reproducibility.\n",
    "    :return: DataFrame with an additional column 'split' indicating the assigned split.\n",
    "    \"\"\"\n",
    "    # Ensure reproducibility if a seed is provided\n",
    "    if seed is not None:\n",
    "        np.random.seed(seed)\n",
    "\n",
    "    # Shuffle the DataFrame\n",
    "    shuffled_df = df.sample(frac=1).reset_index(drop=True)\n",
    "\n",
    "    # Calculate the size of each split\n",
    "    split_size = len(shuffled_df) // 3\n",
    "\n",
    "    # Assign the splits\n",
    "    shuffled_df['split'] = 'train'\n",
    "    shuffled_df.loc[split_size:2*split_size-1, 'split'] = 'test'\n",
    "    shuffled_df.loc[2*split_size:, 'split'] = 'val'\n",
    "\n",
    "    return shuffled_df\n",
    "\n",
    "# Example usage:\n",
    "# pathology_df = create_pathology_df(pathologies, split_dir)\n",
    "# split_df = divide_dataset_into_splits(pathology_df, seed=123)\n"
   ]
  },
  {
   "cell_type": "code",
   "execution_count": 35,
   "metadata": {},
   "outputs": [],
   "source": [
    "pathology_df = divide_dataset_into_splits(pathology_df, seed=123)"
   ]
  },
  {
   "cell_type": "code",
   "execution_count": 38,
   "metadata": {},
   "outputs": [],
   "source": [
    "pathology_df = pathology_df[[\"image\", \"split\", \"pathology\", \"gt_image\", \"gt_positive\", \"gt_negative\"]]"
   ]
  },
  {
   "cell_type": "code",
   "execution_count": 39,
   "metadata": {},
   "outputs": [],
   "source": [
    "pathology_df.to_excel('pathologies_dataset.xlsx', index=False)"
   ]
  },
  {
   "cell_type": "code",
   "execution_count": 37,
   "metadata": {},
   "outputs": [
    {
     "data": {
      "text/html": [
       "<div>\n",
       "<style scoped>\n",
       "    .dataframe tbody tr th:only-of-type {\n",
       "        vertical-align: middle;\n",
       "    }\n",
       "\n",
       "    .dataframe tbody tr th {\n",
       "        vertical-align: top;\n",
       "    }\n",
       "\n",
       "    .dataframe thead th {\n",
       "        text-align: right;\n",
       "    }\n",
       "</style>\n",
       "<table border=\"1\" class=\"dataframe\">\n",
       "  <thead>\n",
       "    <tr style=\"text-align: right;\">\n",
       "      <th></th>\n",
       "      <th>image</th>\n",
       "      <th>split</th>\n",
       "      <th>pathology</th>\n",
       "      <th>gt_image</th>\n",
       "      <th>gt_positive</th>\n",
       "      <th>gt_negative</th>\n",
       "    </tr>\n",
       "  </thead>\n",
       "  <tbody>\n",
       "    <tr>\n",
       "      <th>0</th>\n",
       "      <td>./data/IXI/sub-IXI002_ses-M00_T1w_space-MNI152...</td>\n",
       "      <td>train</td>\n",
       "      <td>None</td>\n",
       "      <td>NaN</td>\n",
       "      <td>None</td>\n",
       "      <td>None</td>\n",
       "    </tr>\n",
       "    <tr>\n",
       "      <th>1</th>\n",
       "      <td>./data/IXI/sub-IXI012_ses-M00_T1w_space-MNI152...</td>\n",
       "      <td>train</td>\n",
       "      <td>None</td>\n",
       "      <td>NaN</td>\n",
       "      <td>None</td>\n",
       "      <td>None</td>\n",
       "    </tr>\n",
       "    <tr>\n",
       "      <th>2</th>\n",
       "      <td>./data/IXI/sub-IXI013_ses-M00_T1w_space-MNI152...</td>\n",
       "      <td>train</td>\n",
       "      <td>None</td>\n",
       "      <td>NaN</td>\n",
       "      <td>None</td>\n",
       "      <td>None</td>\n",
       "    </tr>\n",
       "    <tr>\n",
       "      <th>3</th>\n",
       "      <td>./data/IXI/sub-IXI014_ses-M00_T1w_space-MNI152...</td>\n",
       "      <td>train</td>\n",
       "      <td>None</td>\n",
       "      <td>NaN</td>\n",
       "      <td>None</td>\n",
       "      <td>None</td>\n",
       "    </tr>\n",
       "    <tr>\n",
       "      <th>4</th>\n",
       "      <td>./data/IXI/sub-IXI015_ses-M00_T1w_space-MNI152...</td>\n",
       "      <td>train</td>\n",
       "      <td>None</td>\n",
       "      <td>NaN</td>\n",
       "      <td>None</td>\n",
       "      <td>None</td>\n",
       "    </tr>\n",
       "    <tr>\n",
       "      <th>...</th>\n",
       "      <td>...</td>\n",
       "      <td>...</td>\n",
       "      <td>...</td>\n",
       "      <td>...</td>\n",
       "      <td>...</td>\n",
       "      <td>...</td>\n",
       "    </tr>\n",
       "    <tr>\n",
       "      <th>751</th>\n",
       "      <td>./data/fastMRI/brain_mid_png/file_brain_AXT1_2...</td>\n",
       "      <td>test</td>\n",
       "      <td>None</td>\n",
       "      <td>./data/fastMRI/brain_mid_png/file_brain_AXT1_2...</td>\n",
       "      <td>None</td>\n",
       "      <td>None</td>\n",
       "    </tr>\n",
       "    <tr>\n",
       "      <th>752</th>\n",
       "      <td>./data/fastMRI/brain_mid_png/file_brain_AXT1_2...</td>\n",
       "      <td>test</td>\n",
       "      <td>None</td>\n",
       "      <td>./data/fastMRI/brain_mid_png/file_brain_AXT1_2...</td>\n",
       "      <td>None</td>\n",
       "      <td>None</td>\n",
       "    </tr>\n",
       "    <tr>\n",
       "      <th>753</th>\n",
       "      <td>./data/fastMRI/brain_mid_png/file_brain_AXT1_2...</td>\n",
       "      <td>test</td>\n",
       "      <td>None</td>\n",
       "      <td>./data/fastMRI/brain_mid_png/file_brain_AXT1_2...</td>\n",
       "      <td>None</td>\n",
       "      <td>None</td>\n",
       "    </tr>\n",
       "    <tr>\n",
       "      <th>754</th>\n",
       "      <td>./data/fastMRI/brain_mid_png/file_brain_AXT1_2...</td>\n",
       "      <td>test</td>\n",
       "      <td>None</td>\n",
       "      <td>./data/fastMRI/brain_mid_png/file_brain_AXT1_2...</td>\n",
       "      <td>None</td>\n",
       "      <td>None</td>\n",
       "    </tr>\n",
       "    <tr>\n",
       "      <th>755</th>\n",
       "      <td>./data/fastMRI/brain_mid_png/file_brain_AXT1_2...</td>\n",
       "      <td>test</td>\n",
       "      <td>None</td>\n",
       "      <td>./data/fastMRI/brain_mid_png/file_brain_AXT1_2...</td>\n",
       "      <td>None</td>\n",
       "      <td>None</td>\n",
       "    </tr>\n",
       "  </tbody>\n",
       "</table>\n",
       "<p>756 rows × 6 columns</p>\n",
       "</div>"
      ],
      "text/plain": [
       "                                                 image  split pathology   \n",
       "0    ./data/IXI/sub-IXI002_ses-M00_T1w_space-MNI152...  train      None  \\\n",
       "1    ./data/IXI/sub-IXI012_ses-M00_T1w_space-MNI152...  train      None   \n",
       "2    ./data/IXI/sub-IXI013_ses-M00_T1w_space-MNI152...  train      None   \n",
       "3    ./data/IXI/sub-IXI014_ses-M00_T1w_space-MNI152...  train      None   \n",
       "4    ./data/IXI/sub-IXI015_ses-M00_T1w_space-MNI152...  train      None   \n",
       "..                                                 ...    ...       ...   \n",
       "751  ./data/fastMRI/brain_mid_png/file_brain_AXT1_2...   test      None   \n",
       "752  ./data/fastMRI/brain_mid_png/file_brain_AXT1_2...   test      None   \n",
       "753  ./data/fastMRI/brain_mid_png/file_brain_AXT1_2...   test      None   \n",
       "754  ./data/fastMRI/brain_mid_png/file_brain_AXT1_2...   test      None   \n",
       "755  ./data/fastMRI/brain_mid_png/file_brain_AXT1_2...   test      None   \n",
       "\n",
       "                                              gt_image gt_positive gt_negative  \n",
       "0                                                  NaN        None        None  \n",
       "1                                                  NaN        None        None  \n",
       "2                                                  NaN        None        None  \n",
       "3                                                  NaN        None        None  \n",
       "4                                                  NaN        None        None  \n",
       "..                                                 ...         ...         ...  \n",
       "751  ./data/fastMRI/brain_mid_png/file_brain_AXT1_2...        None        None  \n",
       "752  ./data/fastMRI/brain_mid_png/file_brain_AXT1_2...        None        None  \n",
       "753  ./data/fastMRI/brain_mid_png/file_brain_AXT1_2...        None        None  \n",
       "754  ./data/fastMRI/brain_mid_png/file_brain_AXT1_2...        None        None  \n",
       "755  ./data/fastMRI/brain_mid_png/file_brain_AXT1_2...        None        None  \n",
       "\n",
       "[756 rows x 6 columns]"
      ]
     },
     "execution_count": 37,
     "metadata": {},
     "output_type": "execute_result"
    }
   ],
   "source": [
    "df"
   ]
  },
  {
   "cell_type": "code",
   "execution_count": 41,
   "metadata": {},
   "outputs": [],
   "source": [
    "# since there are no common images between df and pathology_df, we can just concat them\n",
    "df = pd.concat([df, pathology_df], ignore_index=True)"
   ]
  },
  {
   "cell_type": "code",
   "execution_count": 42,
   "metadata": {},
   "outputs": [
    {
     "data": {
      "text/html": [
       "<div>\n",
       "<style scoped>\n",
       "    .dataframe tbody tr th:only-of-type {\n",
       "        vertical-align: middle;\n",
       "    }\n",
       "\n",
       "    .dataframe tbody tr th {\n",
       "        vertical-align: top;\n",
       "    }\n",
       "\n",
       "    .dataframe thead th {\n",
       "        text-align: right;\n",
       "    }\n",
       "</style>\n",
       "<table border=\"1\" class=\"dataframe\">\n",
       "  <thead>\n",
       "    <tr style=\"text-align: right;\">\n",
       "      <th></th>\n",
       "      <th>image</th>\n",
       "      <th>split</th>\n",
       "      <th>pathology</th>\n",
       "      <th>gt_image</th>\n",
       "      <th>gt_positive</th>\n",
       "      <th>gt_negative</th>\n",
       "    </tr>\n",
       "  </thead>\n",
       "  <tbody>\n",
       "    <tr>\n",
       "      <th>0</th>\n",
       "      <td>./data/IXI/sub-IXI002_ses-M00_T1w_space-MNI152...</td>\n",
       "      <td>train</td>\n",
       "      <td>None</td>\n",
       "      <td>NaN</td>\n",
       "      <td>None</td>\n",
       "      <td>None</td>\n",
       "    </tr>\n",
       "    <tr>\n",
       "      <th>1</th>\n",
       "      <td>./data/IXI/sub-IXI012_ses-M00_T1w_space-MNI152...</td>\n",
       "      <td>train</td>\n",
       "      <td>None</td>\n",
       "      <td>NaN</td>\n",
       "      <td>None</td>\n",
       "      <td>None</td>\n",
       "    </tr>\n",
       "    <tr>\n",
       "      <th>2</th>\n",
       "      <td>./data/IXI/sub-IXI013_ses-M00_T1w_space-MNI152...</td>\n",
       "      <td>train</td>\n",
       "      <td>None</td>\n",
       "      <td>NaN</td>\n",
       "      <td>None</td>\n",
       "      <td>None</td>\n",
       "    </tr>\n",
       "    <tr>\n",
       "      <th>3</th>\n",
       "      <td>./data/IXI/sub-IXI014_ses-M00_T1w_space-MNI152...</td>\n",
       "      <td>train</td>\n",
       "      <td>None</td>\n",
       "      <td>NaN</td>\n",
       "      <td>None</td>\n",
       "      <td>None</td>\n",
       "    </tr>\n",
       "    <tr>\n",
       "      <th>4</th>\n",
       "      <td>./data/IXI/sub-IXI015_ses-M00_T1w_space-MNI152...</td>\n",
       "      <td>train</td>\n",
       "      <td>None</td>\n",
       "      <td>NaN</td>\n",
       "      <td>None</td>\n",
       "      <td>None</td>\n",
       "    </tr>\n",
       "    <tr>\n",
       "      <th>...</th>\n",
       "      <td>...</td>\n",
       "      <td>...</td>\n",
       "      <td>...</td>\n",
       "      <td>...</td>\n",
       "      <td>...</td>\n",
       "      <td>...</td>\n",
       "    </tr>\n",
       "    <tr>\n",
       "      <th>1067</th>\n",
       "      <td>./data/fastMRI/brain_mid_png/file_brain_AXT1_2...</td>\n",
       "      <td>val</td>\n",
       "      <td>mass</td>\n",
       "      <td>./data/fastMRI/brain_mid_png/file_brain_AXT1_2...</td>\n",
       "      <td>./data/fastMRI/brain_mid_anno_pos_png/file_bra...</td>\n",
       "      <td>./data/fastMRI/brain_mid_anno_neg_png/file_bra...</td>\n",
       "    </tr>\n",
       "    <tr>\n",
       "      <th>1068</th>\n",
       "      <td>./data/fastMRI/brain_mid_png/file_brain_AXT1_2...</td>\n",
       "      <td>val</td>\n",
       "      <td>mass_all</td>\n",
       "      <td>./data/fastMRI/brain_mid_png/file_brain_AXT1_2...</td>\n",
       "      <td>./data/fastMRI/brain_mid_anno_pos_png/file_bra...</td>\n",
       "      <td>./data/fastMRI/brain_mid_anno_neg_png/file_bra...</td>\n",
       "    </tr>\n",
       "    <tr>\n",
       "      <th>1069</th>\n",
       "      <td>./data/fastMRI/brain_mid_png/file_brain_AXT1_2...</td>\n",
       "      <td>val</td>\n",
       "      <td>posttreatment</td>\n",
       "      <td>./data/fastMRI/brain_mid_png/file_brain_AXT1_2...</td>\n",
       "      <td>./data/fastMRI/brain_mid_anno_pos_png/file_bra...</td>\n",
       "      <td>./data/fastMRI/brain_mid_anno_neg_png/file_bra...</td>\n",
       "    </tr>\n",
       "    <tr>\n",
       "      <th>1070</th>\n",
       "      <td>./data/fastMRI/brain_mid_png/file_brain_AXT1_2...</td>\n",
       "      <td>val</td>\n",
       "      <td>local</td>\n",
       "      <td>./data/fastMRI/brain_mid_png/file_brain_AXT1_2...</td>\n",
       "      <td>None</td>\n",
       "      <td>./data/fastMRI/brain_mid_anno_neg_png/file_bra...</td>\n",
       "    </tr>\n",
       "    <tr>\n",
       "      <th>1071</th>\n",
       "      <td>./data/fastMRI/brain_mid_png/file_brain_AXT1_2...</td>\n",
       "      <td>val</td>\n",
       "      <td>mass</td>\n",
       "      <td>./data/fastMRI/brain_mid_png/file_brain_AXT1_2...</td>\n",
       "      <td>./data/fastMRI/brain_mid_anno_pos_png/file_bra...</td>\n",
       "      <td>./data/fastMRI/brain_mid_anno_neg_png/file_bra...</td>\n",
       "    </tr>\n",
       "  </tbody>\n",
       "</table>\n",
       "<p>1072 rows × 6 columns</p>\n",
       "</div>"
      ],
      "text/plain": [
       "                                                  image  split      pathology   \n",
       "0     ./data/IXI/sub-IXI002_ses-M00_T1w_space-MNI152...  train           None  \\\n",
       "1     ./data/IXI/sub-IXI012_ses-M00_T1w_space-MNI152...  train           None   \n",
       "2     ./data/IXI/sub-IXI013_ses-M00_T1w_space-MNI152...  train           None   \n",
       "3     ./data/IXI/sub-IXI014_ses-M00_T1w_space-MNI152...  train           None   \n",
       "4     ./data/IXI/sub-IXI015_ses-M00_T1w_space-MNI152...  train           None   \n",
       "...                                                 ...    ...            ...   \n",
       "1067  ./data/fastMRI/brain_mid_png/file_brain_AXT1_2...    val           mass   \n",
       "1068  ./data/fastMRI/brain_mid_png/file_brain_AXT1_2...    val       mass_all   \n",
       "1069  ./data/fastMRI/brain_mid_png/file_brain_AXT1_2...    val  posttreatment   \n",
       "1070  ./data/fastMRI/brain_mid_png/file_brain_AXT1_2...    val          local   \n",
       "1071  ./data/fastMRI/brain_mid_png/file_brain_AXT1_2...    val           mass   \n",
       "\n",
       "                                               gt_image   \n",
       "0                                                   NaN  \\\n",
       "1                                                   NaN   \n",
       "2                                                   NaN   \n",
       "3                                                   NaN   \n",
       "4                                                   NaN   \n",
       "...                                                 ...   \n",
       "1067  ./data/fastMRI/brain_mid_png/file_brain_AXT1_2...   \n",
       "1068  ./data/fastMRI/brain_mid_png/file_brain_AXT1_2...   \n",
       "1069  ./data/fastMRI/brain_mid_png/file_brain_AXT1_2...   \n",
       "1070  ./data/fastMRI/brain_mid_png/file_brain_AXT1_2...   \n",
       "1071  ./data/fastMRI/brain_mid_png/file_brain_AXT1_2...   \n",
       "\n",
       "                                            gt_positive   \n",
       "0                                                  None  \\\n",
       "1                                                  None   \n",
       "2                                                  None   \n",
       "3                                                  None   \n",
       "4                                                  None   \n",
       "...                                                 ...   \n",
       "1067  ./data/fastMRI/brain_mid_anno_pos_png/file_bra...   \n",
       "1068  ./data/fastMRI/brain_mid_anno_pos_png/file_bra...   \n",
       "1069  ./data/fastMRI/brain_mid_anno_pos_png/file_bra...   \n",
       "1070                                               None   \n",
       "1071  ./data/fastMRI/brain_mid_anno_pos_png/file_bra...   \n",
       "\n",
       "                                            gt_negative  \n",
       "0                                                  None  \n",
       "1                                                  None  \n",
       "2                                                  None  \n",
       "3                                                  None  \n",
       "4                                                  None  \n",
       "...                                                 ...  \n",
       "1067  ./data/fastMRI/brain_mid_anno_neg_png/file_bra...  \n",
       "1068  ./data/fastMRI/brain_mid_anno_neg_png/file_bra...  \n",
       "1069  ./data/fastMRI/brain_mid_anno_neg_png/file_bra...  \n",
       "1070  ./data/fastMRI/brain_mid_anno_neg_png/file_bra...  \n",
       "1071  ./data/fastMRI/brain_mid_anno_neg_png/file_bra...  \n",
       "\n",
       "[1072 rows x 6 columns]"
      ]
     },
     "execution_count": 42,
     "metadata": {},
     "output_type": "execute_result"
    }
   ],
   "source": [
    "df"
   ]
  },
  {
   "cell_type": "code",
   "execution_count": 44,
   "metadata": {},
   "outputs": [],
   "source": [
    "# sort on split column\n",
    "df = df.sort_values(by=['split'])"
   ]
  },
  {
   "cell_type": "code",
   "execution_count": 45,
   "metadata": {},
   "outputs": [],
   "source": [
    "df.to_excel('master_dataset.xlsx', index=False)"
   ]
  }
 ],
 "metadata": {
  "kernelspec": {
   "display_name": "adlm",
   "language": "python",
   "name": "python3"
  },
  "language_info": {
   "codemirror_mode": {
    "name": "ipython",
    "version": 3
   },
   "file_extension": ".py",
   "mimetype": "text/x-python",
   "name": "python",
   "nbconvert_exporter": "python",
   "pygments_lexer": "ipython3",
   "version": "3.9.16"
  }
 },
 "nbformat": 4,
 "nbformat_minor": 2
}
