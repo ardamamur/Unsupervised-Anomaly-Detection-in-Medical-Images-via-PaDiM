{
 "cells": [
  {
   "cell_type": "code",
   "execution_count": 1,
   "metadata": {},
   "outputs": [],
   "source": [
    "import random\n",
    "from random import sample\n",
    "import numpy as np\n",
    "import os\n",
    "import pickle\n",
    "from tqdm import tqdm\n",
    "from collections import OrderedDict\n",
    "from sklearn.metrics import roc_auc_score\n",
    "from sklearn.metrics import roc_curve\n",
    "from sklearn.metrics import precision_recall_curve\n",
    "from scipy.spatial.distance import mahalanobis\n",
    "from scipy.ndimage import gaussian_filter\n",
    "import matplotlib.pyplot as plt\n",
    "import torch\n",
    "import torch.nn.functional as F\n",
    "from torch.utils.data import DataLoader\n",
    "from torchvision.models import wide_resnet50_2, resnet18\n",
    "from fast_ixi import FAST_IXI\n",
    "from utils import read_config"
   ]
  },
  {
   "cell_type": "code",
   "execution_count": 2,
   "metadata": {},
   "outputs": [
    {
     "name": "stdout",
     "output_type": "stream",
     "text": [
      "Device: cuda\n"
     ]
    }
   ],
   "source": [
    "# device setup\n",
    "use_cuda = torch.cuda.is_available()\n",
    "device = torch.device('cuda' if use_cuda else 'cpu')\n",
    "print('Device: {}'.format(device))"
   ]
  },
  {
   "cell_type": "code",
   "execution_count": 3,
   "metadata": {},
   "outputs": [
    {
     "data": {
      "text/plain": [
       "{'dataset': {'class_names': ['absent_sentum',\n",
       "   'artefacts',\n",
       "   'craniatomy',\n",
       "   'dural',\n",
       "   'ea_mass',\n",
       "   'edema',\n",
       "   'encephalo',\n",
       "   'extra_axial'],\n",
       "  'path': '/home/mamur/TUM/Seminar/dataset',\n",
       "  'resize': 128,\n",
       "  'cropsize': 128,\n",
       "  'batch_size': 1},\n",
       " 'model': {'backbone': 'wide_resnet50_2'}}"
      ]
     },
     "execution_count": 3,
     "metadata": {},
     "output_type": "execute_result"
    }
   ],
   "source": [
    "opt = read_config('config.yaml')\n",
    "opt"
   ]
  },
  {
   "cell_type": "code",
   "execution_count": 4,
   "metadata": {},
   "outputs": [],
   "source": [
    "save_dir = './results/' + opt['model']['backbone']"
   ]
  },
  {
   "cell_type": "markdown",
   "metadata": {},
   "source": [
    "## pre-trained CNN"
   ]
  },
  {
   "cell_type": "code",
   "execution_count": 5,
   "metadata": {},
   "outputs": [
    {
     "name": "stderr",
     "output_type": "stream",
     "text": [
      "/home/mamur/miniconda3/envs/adlm/lib/python3.9/site-packages/torchvision/models/_utils.py:208: UserWarning: The parameter 'pretrained' is deprecated since 0.13 and may be removed in the future, please use 'weights' instead.\n",
      "  warnings.warn(\n",
      "/home/mamur/miniconda3/envs/adlm/lib/python3.9/site-packages/torchvision/models/_utils.py:223: UserWarning: Arguments other than a weight enum or `None` for 'weights' are deprecated since 0.13 and may be removed in the future. The current behavior is equivalent to passing `weights=Wide_ResNet50_2_Weights.IMAGENET1K_V1`. You can also use `weights=Wide_ResNet50_2_Weights.DEFAULT` to get the most up-to-date weights.\n",
      "  warnings.warn(msg)\n"
     ]
    }
   ],
   "source": [
    "if opt['model']['backbone'] == 'resnet18':\n",
    "    model = resnet18(pretrained=True, progress=True)\n",
    "    t_d = 448\n",
    "    d = 180\n",
    "\n",
    "elif opt['model']['backbone'] == 'wide_resnet50_2':\n",
    "    model = wide_resnet50_2(pretrained=True, progress=True)\n",
    "    t_d = 1792\n",
    "    d = 550\n",
    "\n",
    "else:\n",
    "    raise NotImplementedError"
   ]
  },
  {
   "cell_type": "code",
   "execution_count": 6,
   "metadata": {},
   "outputs": [
    {
     "name": "stdout",
     "output_type": "stream",
     "text": [
      "Backbone: wide_resnet50_2\n",
      "Input dim size: 1792\n",
      "Output dim size after reduced: 550\n"
     ]
    }
   ],
   "source": [
    "print('Backbone: {}'.format(opt['model']['backbone']))\n",
    "print('Input dim size: {}'.format(t_d))\n",
    "print('Output dim size after reduced: {}'.format(d))"
   ]
  },
  {
   "cell_type": "code",
   "execution_count": 7,
   "metadata": {},
   "outputs": [],
   "source": [
    "model.to(device)\n",
    "model.eval()\n",
    "random.seed(1024)\n",
    "torch.manual_seed(1024)\n",
    "torch.cuda.manual_seed_all(1024)"
   ]
  },
  {
   "cell_type": "code",
   "execution_count": 8,
   "metadata": {},
   "outputs": [],
   "source": [
    "# select randomly choosen dimension to reduce the dimensionality of the feature vector (like PCA)\n",
    "idx = torch.tensor(sample(range(0, t_d), d))\n",
    "# set model's intermediate outputs\n"
   ]
  },
  {
   "cell_type": "code",
   "execution_count": 9,
   "metadata": {},
   "outputs": [
    {
     "data": {
      "text/plain": [
       "<torch.utils.hooks.RemovableHandle at 0x7f7a5663b250>"
      ]
     },
     "execution_count": 9,
     "metadata": {},
     "output_type": "execute_result"
    }
   ],
   "source": [
    "outputs = []\n",
    "def hook(module, input, output):\n",
    "    outputs.append(output)\n",
    "model.layer1[-1].register_forward_hook(hook)\n",
    "model.layer2[-1].register_forward_hook(hook)\n",
    "model.layer3[-1].register_forward_hook(hook)"
   ]
  },
  {
   "cell_type": "code",
   "execution_count": 10,
   "metadata": {},
   "outputs": [],
   "source": [
    "# create path to save the results if not exists\n",
    "os.makedirs(os.path.join(save_dir, 'temp_%s' % opt['model']['backbone']), exist_ok=True)\n",
    "train_feature_filepath = os.path.join(save_dir, 'temp_%s' % opt['model']['backbone'], 'train_%s.pkl' % 'brainmri')"
   ]
  },
  {
   "cell_type": "code",
   "execution_count": 11,
   "metadata": {},
   "outputs": [
    {
     "data": {
      "image/png": "[encoded data removed]",
      "text/plain": [
       "<Figure size 2000x1000 with 2 Axes>"
      ]
     },
     "metadata": {},
     "output_type": "display_data"
    }
   ],
   "source": [
    "fig, ax = plt.subplots(1, 2, figsize=(20, 10))\n",
    "fig_img_rocauc = ax[0]\n",
    "fig_pixel_rocauc = ax[1]\n",
    "total_roc_auc = []\n",
    "total_pixel_roc_auc = []"
   ]
  },
  {
   "cell_type": "markdown",
   "metadata": {},
   "source": [
    "## Load Dataset"
   ]
  },
  {
   "cell_type": "code",
   "execution_count": 12,
   "metadata": {},
   "outputs": [],
   "source": [
    "# load dataset\n",
    "\n",
    "train_dataset = FAST_IXI(opt, is_train=True)\n",
    "train_dataloader = DataLoader(train_dataset, batch_size=opt['dataset']['batch_size'], pin_memory=True)\n",
    "\n",
    "test_dataset = FAST_IXI(opt, is_train=False)\n",
    "test_dataloader = DataLoader(test_dataset, batch_size=opt['dataset']['batch_size'], pin_memory=True)\n",
    "\n",
    "train_outputs = OrderedDict([('layer1', []), ('layer2', []), ('layer3', [])])\n",
    "test_outputs = OrderedDict([('layer1', []), ('layer2', []), ('layer3', [])])"
   ]
  },
  {
   "cell_type": "code",
   "execution_count": 13,
   "metadata": {},
   "outputs": [
    {
     "name": "stdout",
     "output_type": "stream",
     "text": [
      "train size: 711\n",
      "test_size: 111\n"
     ]
    }
   ],
   "source": [
    "print('train size:', len(train_dataloader))\n",
    "print('test_size:', len(test_dataloader))"
   ]
  },
  {
   "cell_type": "markdown",
   "metadata": {},
   "source": [
    "## Normal Class Representation"
   ]
  },
  {
   "cell_type": "code",
   "execution_count": 14,
   "metadata": {},
   "outputs": [],
   "source": [
    "def embedding_concat(x, y):\n",
    "    B, C1, H1, W1 = x.size()\n",
    "    _, C2, H2, W2 = y.size()\n",
    "    s = int(H1 / H2)\n",
    "    x = F.unfold(x, kernel_size=s, dilation=1, stride=s)\n",
    "    x = x.view(B, C1, -1, H2, W2)\n",
    "    z = torch.zeros(B, C1 + C2, x.size(2), H2, W2)\n",
    "    for i in range(x.size(2)):\n",
    "        z[:, :, i, :, :] = torch.cat((x[:, :, i, :, :], y), 1)\n",
    "    z = z.view(B, -1, H2 * W2)\n",
    "    z = F.fold(z, kernel_size=s, output_size=(H1, W1), stride=s)\n",
    "\n",
    "    return z"
   ]
  },
  {
   "cell_type": "code",
   "execution_count": 15,
   "metadata": {},
   "outputs": [
    {
     "data": {
      "text/plain": [
       "OrderedDict([('layer1', []), ('layer2', []), ('layer3', [])])"
      ]
     },
     "execution_count": 15,
     "metadata": {},
     "output_type": "execute_result"
    }
   ],
   "source": [
    "train_outputs"
   ]
  },
  {
   "cell_type": "code",
   "execution_count": 16,
   "metadata": {},
   "outputs": [],
   "source": [
    "# extract features from each layer of the pretrained model"
   ]
  },
  {
   "cell_type": "code",
   "execution_count": 17,
   "metadata": {},
   "outputs": [],
   "source": [
    "# TODO : Make optional to extract feature method (read from the file or extract from the model)"
   ]
  },
  {
   "cell_type": "code",
   "execution_count": 18,
   "metadata": {},
   "outputs": [
    {
     "name": "stdout",
     "output_type": "stream",
     "text": [
      "train feature extraction\n"
     ]
    },
    {
     "name": "stderr",
     "output_type": "stream",
     "text": [
      "| feature extraction | train | brainmri |: 100%|██████████| 711/711 [00:10<00:00, 69.45it/s]\n"
     ]
    },
    {
     "name": "stdout",
     "output_type": "stream",
     "text": [
      "first layer shape: torch.Size([711, 256, 32, 32])\n",
      "second layer shape: torch.Size([711, 512, 16, 16])\n",
      "third layer shape: torch.Size([711, 1024, 8, 8])\n"
     ]
    },
    {
     "ename": "",
     "evalue": "",
     "output_type": "error",
     "traceback": [
      "\u001b[1;31mThe Kernel crashed while executing code in the the current cell or a previous cell. Please review the code in the cell(s) to identify a possible cause of the failure. Click <a href='https://aka.ms/vscodeJupyterKernelCrash'>here</a> for more info. View Jupyter <a href='command:jupyter.viewOutput'>log</a> for further details."
     ]
    }
   ],
   "source": [
    "if not os.path.exists(train_feature_filepath):\n",
    "    print('train feature extraction')\n",
    "    for (img, label, mask) in tqdm(train_dataloader, '| feature extraction | train | %s |' % 'brainmri'):\n",
    "        img = img.to(device)\n",
    "        with torch.no_grad():\n",
    "            _ = model(img)\n",
    "        for key, value in zip(train_outputs.keys(), outputs):\n",
    "            train_outputs[key].append(value.cpu().detach())\n",
    "        # initialize hook outputs\n",
    "        outputs = []        \n",
    "    for key, value in train_outputs.items():\n",
    "        train_outputs[key] = torch.cat(value, 0)\n",
    "\n",
    "    print('first layer shape:', train_outputs['layer1'].shape)\n",
    "    print('second layer shape:', train_outputs['layer2'].shape)\n",
    "    print('third layer shape:', train_outputs['layer3'].shape)\n",
    "\n",
    "    # Embedding concat\n",
    "    embedding_vectors = train_outputs['layer1'] # get the maximum size of the embedding vectors\n",
    "   \n",
    "    \"\"\"\n",
    "    Rresearchers conceptually divide the input image into a grid based on the resolution of the largest activation map—typically\n",
    "    the first layer of the pre-trained CNN. This way, each grid position, denoted as (i,j), \n",
    "    is associated with a unique embedding vector that represents the collective activation vectors for that particular image patch.\n",
    "    \"\"\"\n",
    "    for layer_name in ['layer2', 'layer3']:\n",
    "        embedding_vectors = embedding_concat(embedding_vectors, train_outputs[layer_name])\n",
    "\n",
    "    # randomly select d dimension\n",
    "    print('randomly select %d dimension' % d)\n",
    "    embedding_vectors = torch.index_select(embedding_vectors, 1, idx)\n",
    "\n",
    "    B, C, H, W = embedding_vectors.size() # Get the shape of the embedding vectors which is same with the first layer of the pretrained model\n",
    "    print('embedding_vectors shape:', embedding_vectors.shape)\n",
    "    embedding_vectors = embedding_vectors.view(B, C, H * W)\n",
    "\n",
    "    # calculate multivariate Gaussian distribution\n",
    "    mean = torch.mean(embedding_vectors, dim=0).numpy()\n",
    "    cov = torch.zeros(C, C, H * W).numpy()\n",
    "    I = np.identity(C)\n",
    "\n",
    "    # calculate mean, cov and inverse covariance matrix for each patch position at Xij \n",
    "    # (each patch position (i,j) is associated with a unique embedding vector)\n",
    "    for i in range(H * W):\n",
    "        # Xij = embedding_vectors[:, :, i].numpy()\n",
    "        cov[:, :, i] = np.cov(embedding_vectors[:, :, i].numpy(), rowvar=False) + 0.01 * I\n",
    "\n",
    "    # save learned distribution\n",
    "    train_outputs = [mean, cov]\n",
    "    with open(train_feature_filepath, 'wb') as f:\n",
    "        pickle.dump(train_outputs, f)\n",
    "else:\n",
    "    # load train set features\n",
    "    with open(train_feature_filepath, 'rb') as f:\n",
    "        train_outputs = pickle.load(f)"
   ]
  },
  {
   "cell_type": "markdown",
   "metadata": {},
   "source": [
    "## PaDiM at Inference Time"
   ]
  },
  {
   "cell_type": "code",
   "execution_count": 18,
   "metadata": {},
   "outputs": [],
   "source": [
    "gt_list = []\n",
    "gt_mask_list = []\n",
    "test_imgs = []"
   ]
  },
  {
   "cell_type": "code",
   "execution_count": 19,
   "metadata": {},
   "outputs": [
    {
     "name": "stderr",
     "output_type": "stream",
     "text": [
      "| feature extraction | test | brainmri |: 100%|██████████| 111/111 [00:00<00:00, 111.03it/s]\n"
     ]
    },
    {
     "name": "stdout",
     "output_type": "stream",
     "text": [
      "first layer shape: torch.Size([111, 64, 32, 32])\n",
      "second layer shape: torch.Size([111, 128, 16, 16])\n",
      "third layer shape: torch.Size([111, 256, 8, 8])\n"
     ]
    }
   ],
   "source": [
    "# extract test set features\n",
    "for (img, label, mask) in tqdm(test_dataloader, '| feature extraction | test | %s |' % 'brainmri'):\n",
    "    test_imgs.extend(img.cpu().detach().numpy())\n",
    "    gt_list.extend(label.cpu().detach().numpy())\n",
    "    gt_mask_list.extend(mask.cpu().detach().numpy())\n",
    "\n",
    "    # get the model prediction\n",
    "    with torch.no_grad():\n",
    "        _ = model(img.to(device))\n",
    "    \n",
    "    # get intermediate outputs\n",
    "    for key, value in zip(test_outputs.keys(), outputs):\n",
    "        test_outputs[key].append(value.cpu().detach())\n",
    "\n",
    "    # initialize hook outputs\n",
    "    outputs = []\n",
    "\n",
    "for key, value in test_outputs.items():\n",
    "    test_outputs[key] = torch.cat(value, 0)\n",
    "\n",
    "print('first layer shape:', test_outputs['layer1'].shape)\n",
    "print('second layer shape:', test_outputs['layer2'].shape)\n",
    "print('third layer shape:', test_outputs['layer3'].shape)\n",
    "\n",
    "# Embedding concat\n",
    "embedding_vectors = test_outputs['layer1']\n",
    "for layer_name in ['layer2', 'layer3']:\n",
    "    embedding_vectors = embedding_concat(embedding_vectors, test_outputs[layer_name])\n",
    "\n",
    "# randomly select d dimension\n",
    "embedding_vectors = torch.index_select(embedding_vectors, 1, idx)"
   ]
  },
  {
   "cell_type": "code",
   "execution_count": 20,
   "metadata": {},
   "outputs": [
    {
     "name": "stdout",
     "output_type": "stream",
     "text": [
      "embedding_vectors shape: torch.Size([111, 180, 32, 32])\n"
     ]
    }
   ],
   "source": [
    "# calculate mahalanobis distance between train_outputs to give anomaly score to each patch position of the test images\n",
    "B, C, H, W = embedding_vectors.size()\n",
    "print('embedding_vectors shape:', embedding_vectors.shape)\n",
    "\n",
    "embedding_vectors = embedding_vectors.view(B, C, H * W).numpy()\n",
    "dist_list = []\n",
    "for i in range(H * W):\n",
    "    mean = train_outputs[0][:, i]\n",
    "    conv_inv = np.linalg.inv(train_outputs[1][:, :, i])\n",
    "    dist = [mahalanobis(sample[:, i], mean, conv_inv) for sample in embedding_vectors]\n",
    "    dist_list.append(dist)\n",
    "dist_list = np.array(dist_list).transpose(1, 0).reshape(B, H, W)"
   ]
  },
  {
   "cell_type": "code",
   "execution_count": 21,
   "metadata": {},
   "outputs": [],
   "source": [
    "# upsample to image size to get anomaly score map\n",
    "dist_list = torch.tensor(dist_list)\n",
    "score_map = F.interpolate(dist_list.unsqueeze(1), size=img.size(2), mode='bilinear',\n",
    "                            align_corners=False).squeeze().numpy()\n",
    "\n",
    "# apply gaussian smoothing on the score map\n",
    "for i in range(score_map.shape[0]):\n",
    "    score_map[i] = gaussian_filter(score_map[i], sigma=4)\n",
    "\n",
    "# Normalize the score map\n",
    "max_score = score_map.max()\n",
    "min_score = score_map.min()\n",
    "scores = (score_map - min_score) / (max_score - min_score)"
   ]
  },
  {
   "cell_type": "markdown",
   "metadata": {},
   "source": [
    "## Calculate Metrics"
   ]
  },
  {
   "cell_type": "code",
   "execution_count": 22,
   "metadata": {},
   "outputs": [],
   "source": [
    "from utils import denormalization, plot_fig"
   ]
  },
  {
   "cell_type": "code",
   "execution_count": 23,
   "metadata": {},
   "outputs": [
    {
     "name": "stdout",
     "output_type": "stream",
     "text": [
      "image ROCAUC: 0.823\n"
     ]
    }
   ],
   "source": [
    "# calculate image-level ROC AUC score\n",
    "img_scores = scores.reshape(scores.shape[0], -1).max(axis=1)\n",
    "gt_list = np.asarray(gt_list)\n",
    "fpr, tpr, _ = roc_curve(gt_list, img_scores)\n",
    "img_roc_auc = roc_auc_score(gt_list, img_scores)\n",
    "total_roc_auc.append(img_roc_auc)\n",
    "fig_img_rocauc.plot(fpr, tpr, label='%s img_ROCAUC: %.3f' % ('brainmri', img_roc_auc))\n",
    "print('image ROCAUC: %.3f' % (img_roc_auc))\n",
    "        "
   ]
  },
  {
   "cell_type": "code",
   "execution_count": 24,
   "metadata": {},
   "outputs": [
    {
     "name": "stdout",
     "output_type": "stream",
     "text": [
      "threshold: 0.283\n"
     ]
    }
   ],
   "source": [
    "# get optimal threshold\n",
    "gt_mask = np.asarray(gt_mask_list)\n",
    "precision, recall, thresholds = precision_recall_curve(gt_mask.flatten(), scores.flatten())\n",
    "a = 2 * precision * recall\n",
    "b = precision + recall\n",
    "f1 = np.divide(a, b, out=np.zeros_like(a), where=b != 0)\n",
    "threshold = thresholds[np.argmax(f1)]\n",
    "print('threshold: %.3f' % (threshold))"
   ]
  },
  {
   "cell_type": "code",
   "execution_count": 25,
   "metadata": {},
   "outputs": [
    {
     "name": "stdout",
     "output_type": "stream",
     "text": [
      "pixel ROCAUC: 0.882\n"
     ]
    }
   ],
   "source": [
    "# calculate per-pixel level ROCAUC\n",
    "fpr, tpr, _ = roc_curve(gt_mask.flatten(), scores.flatten())\n",
    "per_pixel_rocauc = roc_auc_score(gt_mask.flatten(), scores.flatten())\n",
    "total_pixel_roc_auc.append(per_pixel_rocauc)\n",
    "print('pixel ROCAUC: %.3f' % (per_pixel_rocauc))"
   ]
  },
  {
   "cell_type": "code",
   "execution_count": 26,
   "metadata": {},
   "outputs": [],
   "source": [
    "fig_pixel_rocauc.plot(fpr, tpr, label='%s ROCAUC: %.3f' % ('brainmri', per_pixel_rocauc))\n",
    "save_dir = save_dir + '/pictures_' + opt['model']['backbone']\n",
    "os.makedirs(save_dir, exist_ok=True)\n",
    "plot_fig(test_imgs, scores, gt_mask_list, threshold, save_dir, 'brainmri')"
   ]
  },
  {
   "cell_type": "code",
   "execution_count": 27,
   "metadata": {},
   "outputs": [
    {
     "name": "stdout",
     "output_type": "stream",
     "text": [
      "Average ROCAUC: 0.823\n",
      "Average pixel ROCUAC: 0.882\n"
     ]
    }
   ],
   "source": [
    "\n",
    "print('Average ROCAUC: %.3f' % np.mean(total_roc_auc))\n",
    "fig_img_rocauc.title.set_text('Average image ROCAUC: %.3f' % np.mean(total_roc_auc))\n",
    "fig_img_rocauc.legend(loc=\"lower right\")\n",
    "\n",
    "print('Average pixel ROCUAC: %.3f' % np.mean(total_pixel_roc_auc))\n",
    "fig_pixel_rocauc.title.set_text('Average pixel ROCAUC: %.3f' % np.mean(total_pixel_roc_auc))\n",
    "fig_pixel_rocauc.legend(loc=\"lower right\")\n",
    "\n",
    "fig.tight_layout()\n",
    "fig.savefig(os.path.join(save_dir, 'roc_curve.png'), dpi=100)"
   ]
  }
 ],
 "metadata": {
  "kernelspec": {
   "display_name": "adlm",
   "language": "python",
   "name": "python3"
  },
  "language_info": {
   "codemirror_mode": {
    "name": "ipython",
    "version": 3
   },
   "file_extension": ".py",
   "mimetype": "text/x-python",
   "name": "python",
   "nbconvert_exporter": "python",
   "pygments_lexer": "ipython3",
   "version": "3.9.16"
  }
 },
 "nbformat": 4,
 "nbformat_minor": 2
}
